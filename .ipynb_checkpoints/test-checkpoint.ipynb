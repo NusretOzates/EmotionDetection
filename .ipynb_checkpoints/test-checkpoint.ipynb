{
 "cells": [
  {
   "cell_type": "code",
   "execution_count": 8,
   "metadata": {},
   "outputs": [],
   "source": [
    "import numpy as np  # linear algebra\n",
    "from matplotlib import pyplot as plt\n",
    "from tensorflow.keras.preprocessing.image import ImageDataGenerator\n",
    "\n",
    "from models.EnsembleModel import EnsembleModel\n",
    "from models.InceptionV4 import InceptionV4\n",
    "from models.MobileNet import MobileNet\n",
    "from models.XCeption import XCeption\n",
    "from models.Resnet50 import Resnet50\n",
    "from models.VGG16_vggface import VGG16_VGGFACE\n",
    "from models.Resnet50_vggface import Resnet50_VGGFACE\n",
    "\n",
    "import tensorflow as tf\n",
    "\n"
   ]
  },
  {
   "cell_type": "code",
   "execution_count": 9,
   "metadata": {
    "pycharm": {
     "name": "#%%\n"
    }
   },
   "outputs": [
    {
     "name": "stderr",
     "output_type": "stream",
     "text": [
      "/home/nusret/.local/lib/python3.8/site-packages/tensorflow/python/client/session.py:1751: UserWarning: An interactive session is already active. This can cause out-of-memory errors in some cases. You must explicitly call `InteractiveSession.close()` to release resources held by the other session(s).\n",
      "  warnings.warn('An interactive session is already active. This can '\n"
     ]
    }
   ],
   "source": [
    "config = tf.compat.v1.ConfigProto()\n",
    "config.gpu_options.allow_growth = True\n",
    "session = tf.compat.v1.InteractiveSession(config=config)"
   ]
  },
  {
   "cell_type": "code",
   "execution_count": 10,
   "metadata": {
    "pycharm": {
     "name": "#%%\n"
    }
   },
   "outputs": [],
   "source": [
    "def train_model(model, name,train_data,val_data):\n",
    "    epochs = 15\n",
    "\n",
    "    history = model.train(\n",
    "        epochs=epochs,\n",
    "        train_dataset=train_data,\n",
    "        validation_dataset=val_data,\n",
    "    )\n",
    "\n",
    "    plt.plot(history.history['accuracy'])\n",
    "    plt.plot(history.history['val_accuracy'])\n",
    "    plt.title(name + ' model accuracy')\n",
    "    plt.ylabel('accuracy')\n",
    "    plt.xlabel('epoch')\n",
    "    plt.legend(['train', 'test'], loc='upper left')\n",
    "    plt.show()\n",
    "    # summarize history for loss\n",
    "    plt.plot(history.history['loss'])\n",
    "    plt.plot(history.history['val_loss'])\n",
    "    plt.title(name + ' model loss')\n",
    "    plt.ylabel('loss')\n",
    "    plt.xlabel('epoch')\n",
    "    plt.legend(['train', 'test'], loc='upper left')\n",
    "    plt.show()\n"
   ]
  },
  {
   "cell_type": "code",
   "execution_count": 11,
   "metadata": {
    "pycharm": {
     "name": "#%%\n"
    }
   },
   "outputs": [
    {
     "name": "stdout",
     "output_type": "stream",
     "text": [
      "Found 30336 images belonging to 7 classes.\n",
      "Found 3369 images belonging to 7 classes.\n",
      "Found 3619 images belonging to 7 classes.\n"
     ]
    }
   ],
   "source": [
    "datagen = ImageDataGenerator(\n",
    "    rescale=1 / 255,\n",
    "    rotation_range=20,\n",
    "    zoom_range=0.2,\n",
    "    shear_range=0.3,\n",
    "    width_shift_range=0.2,\n",
    "    height_shift_range=0.2,\n",
    "    horizontal_flip=True,\n",
    "    vertical_flip=False,\n",
    "    fill_mode='nearest',\n",
    "    validation_split=0.1\n",
    ")\n",
    "\n",
    "datagen_dev = ImageDataGenerator(\n",
    "    rescale=1 / 255,\n",
    ")\n",
    "\n",
    "datagen_test = ImageDataGenerator(\n",
    "    rescale=1 / 255,\n",
    ")\n",
    "\n",
    "target_size = 197\n",
    "\n",
    "train = datagen.flow_from_directory(\n",
    "    'data/train',\n",
    "    target_size=(target_size, target_size),\n",
    "    batch_size=16,\n",
    "    subset='training',\n",
    "    class_mode='categorical',\n",
    "    interpolation='hamming'\n",
    ")\n",
    "\n",
    "val = datagen.flow_from_directory(\n",
    "    'data/train',\n",
    "    target_size=(target_size, target_size),\n",
    "    batch_size=16,\n",
    "    subset='validation',\n",
    "    class_mode='categorical',\n",
    "    interpolation='hamming'\n",
    ")\n",
    "\n",
    "test = datagen_test.flow_from_directory(\n",
    "    'data/dev',\n",
    "    target_size=(197, 197),\n",
    "    batch_size=32,\n",
    "    class_mode='categorical',\n",
    "    shuffle=False\n",
    ")"
   ]
  },
  {
   "cell_type": "code",
   "execution_count": 12,
   "metadata": {
    "pycharm": {
     "name": "#%%\n"
    }
   },
   "outputs": [],
   "source": [
    "def generate_generator_multiple(generator, subset):\n",
    "    genX1 = generator.flow_from_directory(\n",
    "        'data/train',\n",
    "        target_size=(target_size, target_size),\n",
    "        batch_size=16,\n",
    "        subset=subset,\n",
    "        class_mode='categorical',\n",
    "        interpolation='hamming',\n",
    "        seed=7\n",
    "    )\n",
    "\n",
    "    genX2 = generator.flow_from_directory(\n",
    "        'data/train',\n",
    "        target_size=(target_size, target_size),\n",
    "        batch_size=16,\n",
    "        subset=subset,\n",
    "        class_mode='categorical',\n",
    "        interpolation='hamming',\n",
    "        seed=7\n",
    "    )\n",
    "    while True:\n",
    "        X1i = genX1.next()\n",
    "        X2i = genX2.next()\n",
    "        yield [X1i[0], X2i[0]], X2i[1]  # Yield both images and their mutual label"
   ]
  },
  {
   "cell_type": "code",
   "execution_count": 13,
   "metadata": {
    "pycharm": {
     "name": "#%%\n"
    }
   },
   "outputs": [],
   "source": [
    "def generate_test_generator_multiple(generator):\n",
    "    genX1 = generator.flow_from_directory(\n",
    "        'data/dev',\n",
    "        target_size=(target_size, target_size),\n",
    "        batch_size=16,\n",
    "        class_mode='categorical',\n",
    "        interpolation='hamming',\n",
    "        seed=7\n",
    "    )\n",
    "\n",
    "    genX2 = generator.flow_from_directory(\n",
    "        'data/dev',\n",
    "        target_size=(target_size, target_size),\n",
    "        batch_size=16,\n",
    "        class_mode='categorical',\n",
    "        interpolation='hamming',\n",
    "        seed=7\n",
    "    )\n",
    "    while True:\n",
    "        X1i = genX1.next()\n",
    "        X2i = genX2.next()\n",
    "        yield [X1i[0], X2i[0]], X2i[1]  # Yield both images and their mutual label"
   ]
  },
  {
   "cell_type": "code",
   "execution_count": 14,
   "metadata": {
    "pycharm": {
     "name": "#%%\n"
    }
   },
   "outputs": [],
   "source": [
    "train_generator = generate_generator_multiple(datagen, 'training')\n",
    "validation_generator = generate_generator_multiple(datagen, 'validation')\n",
    "test_generator = generate_test_generator_multiple(datagen_dev)"
   ]
  },
  {
   "cell_type": "code",
   "execution_count": null,
   "metadata": {
    "pycharm": {
     "name": "#%%\n"
    }
   },
   "outputs": [],
   "source": [
    "mymodel = EnsembleModel(target_size)\n",
    "print(mymodel.model.summary())\n",
    "train_model(mymodel, \"Ensemble\",train_generator,validation_generator)\n",
    "\n",
    "\n",
    "\n",
    "mymodel.model.evaluate(test_generator, steps=len(test.filenames) / 16,\n",
    "                       use_multiprocessing=True)"
   ]
  },
  {
   "cell_type": "code",
   "execution_count": null,
   "metadata": {
    "pycharm": {
     "name": "#%%\n"
    }
   },
   "outputs": [],
   "source": [
    "#Use this cell after cells below!\n",
    "mymodel.model.evaluate(test)"
   ]
  },
  {
   "cell_type": "code",
   "execution_count": null,
   "metadata": {
    "pycharm": {
     "name": "#%%\n"
    }
   },
   "outputs": [],
   "source": [
    "mymodel = VGG16_VGGFACE(target_size)  # %95 train accuracy , %65 test accuracy\n",
    "train_model(mymodel, 'VGGFACE-VGG16 Model',train,val)"
   ]
  },
  {
   "cell_type": "code",
   "execution_count": null,
   "metadata": {
    "pycharm": {
     "name": "#%%\n"
    }
   },
   "outputs": [],
   "source": [
    "mymodel = InceptionV4(target_size)  # %95 train accuracy , %70 test accuracy\n",
    "train_model(mymodel, 'Inception Model')\n",
    "\n"
   ]
  },
  {
   "cell_type": "code",
   "execution_count": null,
   "metadata": {
    "pycharm": {
     "name": "#%%\n"
    }
   },
   "outputs": [],
   "source": [
    "mymodel = Resnet50_VGGFACE(target_size)\n",
    "train_model(mymodel, 'VGGFACE-RESNET50')"
   ]
  },
  {
   "cell_type": "code",
   "execution_count": null,
   "metadata": {
    "pycharm": {
     "name": "#%%\n"
    }
   },
   "outputs": [],
   "source": [
    "mymodel = MobileNet(target_size)  # %95 train accuracy , %64 test accuracy\n",
    "train_model(mymodel, 'MobileNet Model')\n"
   ]
  },
  {
   "cell_type": "code",
   "execution_count": null,
   "metadata": {
    "pycharm": {
     "name": "#%%\n"
    }
   },
   "outputs": [],
   "source": [
    "mymodel = Resnet50(target_size)  # %95 train accuracy , %64 test accuracy\n",
    "train_model(mymodel, 'Resnet Model')\n",
    "\n"
   ]
  },
  {
   "cell_type": "code",
   "execution_count": null,
   "metadata": {
    "pycharm": {
     "name": "#%%\n"
    }
   },
   "outputs": [],
   "source": [
    "mymodel = XCeption(target_size)\n",
    "train_model(mymodel, 'Xception Model')\n"
   ]
  }
 ],
 "metadata": {
  "kernelspec": {
   "display_name": "Python 3",
   "language": "python",
   "name": "python3"
  },
  "language_info": {
   "codemirror_mode": {
    "name": "ipython",
    "version": 3
   },
   "file_extension": ".py",
   "mimetype": "text/x-python",
   "name": "python",
   "nbconvert_exporter": "python",
   "pygments_lexer": "ipython3",
   "version": "3.8.2"
  }
 },
 "nbformat": 4,
 "nbformat_minor": 1
}
